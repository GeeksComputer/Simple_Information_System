{
 "cells": [
  {
   "cell_type": "markdown",
   "metadata": {},
   "source": [
    "Pada langkah pertama ini merupakan langkah untuk membuat sistem informasi berbasis web adalah memasang python3 keatas, memasang browser sqllite3, dan memasang lembar kerja web development python dengan perintah commandlines atau terminal dibawah ini:"
   ]
  },
  {
   "cell_type": "code",
   "execution_count": null,
   "metadata": {
    "vscode": {
     "languageId": "shellscript"
    }
   },
   "outputs": [],
   "source": [
    "pip3 install flask"
   ]
  },
  {
   "cell_type": "markdown",
   "metadata": {},
   "source": [
    "Langkah kedua adalah membuat direktori projek sistem informasi yang akan dibuat dengan cara membuka commandlines atau terminal dan ketikkan perintah:"
   ]
  },
  {
   "cell_type": "code",
   "execution_count": null,
   "metadata": {
    "vscode": {
     "languageId": "shellscript"
    }
   },
   "outputs": [],
   "source": [
    "mkdir employee\n",
    "cd employee\n",
    "mkdir templates"
   ]
  },
  {
   "cell_type": "markdown",
   "metadata": {},
   "source": [
    "Langkah ketiga adalah membuka notepad, lalu ketikkan dibawah ini dan simpan dengan nama 'requirements.txt' pada direktori employee:"
   ]
  },
  {
   "cell_type": "markdown",
   "metadata": {},
   "source": [
    "asgiref\n",
    "bcrypt\n",
    "cffi\n",
    "click\n",
    "dnspython\n",
    "email-validator\n",
    "Flask\n",
    "Flask-Bcrypt\n",
    "Flask-Login\n",
    "Flask-SQLAlchemy\n",
    "Flask-WTF\n",
    "greenlet\n",
    "idna\n",
    "importlib-metadata\n",
    "itsdangerous\n",
    "Jinja2\n",
    "MarkupSafe\n",
    "pycparser\n",
    "six\n",
    "SQLAlchemy\n",
    "sqlparse\n",
    "Werkzeug\n",
    "WTForms\n",
    "zipp"
   ]
  },
  {
   "cell_type": "markdown",
   "metadata": {},
   "source": [
    "Langkah keempat adalah membuka commandlines atau terminal pada direktori employee dan masukkan perintah:"
   ]
  },
  {
   "cell_type": "code",
   "execution_count": null,
   "metadata": {
    "vscode": {
     "languageId": "shellscript"
    }
   },
   "outputs": [],
   "source": [
    "pip3 install -r requirements.txt"
   ]
  },
  {
   "cell_type": "markdown",
   "metadata": {},
   "source": [
    "Langkah kelima adalah membuka visual studio code atau IDE lainnya untuk melakukan pemrograman pada direktori employee dan membuat berkas python dengan nama models.py\n",
    "Ini digunakan untuk membuat tabel pada basis data, silahkan membuka browser sqllite dan membuat basis data baru dengan nama database.db kemudian simpan pada direktori employee."
   ]
  },
  {
   "cell_type": "code",
   "execution_count": null,
   "metadata": {},
   "outputs": [],
   "source": [
    "from flask_sqlalchemy import SQLAlchemy\n",
    "\n",
    "db =SQLAlchemy()\n",
    "\n",
    "class EmployeeModel(db.Model):\n",
    "    __tablename__ = \"table\"\n",
    "\n",
    "    id = db.Column(db.Integer, primary_key=True)\n",
    "    employee_id = db.Column(db.Integer(),unique = True)\n",
    "    name = db.Column(db.String())\n",
    "    age = db.Column(db.Integer())\n",
    "    position = db.Column(db.String(80))\n",
    "\n",
    "    def __init__(self, employee_id,name,age,position):\n",
    "        self.employee_id = employee_id\n",
    "        self.name = name\n",
    "        self.age = age\n",
    "        self.position = position\n",
    "\n",
    "    def __repr__(self):\n",
    "        return f\"{self.name}:{self.employee_id}\""
   ]
  },
  {
   "cell_type": "markdown",
   "metadata": {},
   "source": [
    "Langkah keenam adalah membuat berkas main.py sebagai berkas utama untuk menjalankan web, kemudian masukkan source code berikut dibawah ini untuk membuat tabel basis data dan form authentication serta proses cara kerjanya."
   ]
  },
  {
   "cell_type": "code",
   "execution_count": null,
   "metadata": {},
   "outputs": [],
   "source": [
    "from flask import Flask,render_template,request,redirect, url_for\n",
    "from flask_login import UserMixin, login_user, LoginManager, login_required, logout_user, current_user\n",
    "from flask_wtf import FlaskForm\n",
    "from wtforms import StringField, PasswordField, SubmitField\n",
    "from wtforms.validators import InputRequired, Length, ValidationError\n",
    "from flask_bcrypt import Bcrypt\n",
    "from models import db,EmployeeModel\n",
    "\n",
    "app = Flask(__name__)\n",
    "bcrypt = Bcrypt(app)\n",
    "app.config['SQLALCHEMY_DATABASE_URI'] = 'sqlite:///database.db'\n",
    "app.config['SQLALCHEMY_TRACK_MODIFICATIONS'] = False\n",
    "app.config['SECRET_KEY'] = 'thisisasecretkey'\n",
    "db.init_app(app)\n",
    "\n",
    "login_manager = LoginManager()\n",
    "login_manager.init_app(app)\n",
    "login_manager.login_view = 'login'\n",
    "\n",
    "@login_manager.user_loader\n",
    "def load_user(user_id):\n",
    "    return User.query.get(int(user_id))\n",
    "\n",
    "class User(db.Model, UserMixin):\n",
    "    id = db.Column(db.Integer, primary_key=True)\n",
    "    username = db.Column(db.String(20), nullable=False, unique=True)\n",
    "    password = db.Column(db.String(80), nullable=False)\n",
    "\n",
    "class RegisterForm(FlaskForm):\n",
    "    username = StringField(validators=[\n",
    "                           InputRequired(), Length(min=4, max=20)], render_kw={\"placeholder\": \"Username\"})\n",
    "\n",
    "    password = PasswordField(validators=[\n",
    "                             InputRequired(), Length(min=8, max=20)], render_kw={\"placeholder\": \"Password\"})\n",
    "\n",
    "    submit = SubmitField('Register')\n",
    "\n",
    "    def validate_username(self, username):\n",
    "        existing_user_username = User.query.filter_by(\n",
    "            username=username.data).first()\n",
    "        if existing_user_username:\n",
    "            raise ValidationError(\n",
    "                'That username already exists. Please choose a different one.')\n",
    "            \n",
    "class LoginForm(FlaskForm):\n",
    "    username = StringField(validators=[\n",
    "                           InputRequired(), Length(min=4, max=20)], render_kw={\"placeholder\": \"Username\"})\n",
    "\n",
    "    password = PasswordField(validators=[\n",
    "                             InputRequired(), Length(min=8, max=20)], render_kw={\"placeholder\": \"Password\"})\n",
    "\n",
    "    submit = SubmitField('Login')"
   ]
  },
  {
   "cell_type": "markdown",
   "metadata": {},
   "source": [
    "Langkah ketujuh adalah membuat suatu fungsi pada baris selanjutnya diatas pada main.py untuk melakukan authentication dan proses cara kerjannya."
   ]
  },
  {
   "cell_type": "code",
   "execution_count": null,
   "metadata": {},
   "outputs": [],
   "source": [
    "@app.route('/login', methods=['GET', 'POST'])\n",
    "def login():\n",
    "    form = LoginForm()\n",
    "    if form.validate_on_submit():\n",
    "        user = User.query.filter_by(username=form.username.data).first()\n",
    "        if user:\n",
    "            if bcrypt.check_password_hash(user.password, form.password.data):\n",
    "                login_user(user)\n",
    "                return redirect(url_for('dashboard'))\n",
    "    return render_template('login.html', form=form)"
   ]
  },
  {
   "cell_type": "markdown",
   "metadata": {},
   "source": [
    "Langkah kedelapan adalah membuat berkas login.html untuk mengisi authentikasi pengguna pada direktori templates dan masukkan source code html dibawah ini dan simpan."
   ]
  },
  {
   "cell_type": "code",
   "execution_count": null,
   "metadata": {
    "vscode": {
     "languageId": "html"
    }
   },
   "outputs": [],
   "source": [
    "<!DOCTYPE html>\n",
    "<html lang=\"en\">\n",
    "<head>\n",
    "    <meta charset=\"UTF-8\">\n",
    "    <meta name=\"viewport\" content=\"width=device-width, initial-scale=1.0\">\n",
    "    <title>Document</title>\n",
    "</head>\n",
    "<body>\n",
    "    <h1>Login Page</h1>\n",
    "\n",
    "    <form method=\"POST\" action=\"\">\n",
    "        {{ form.hidden_tag() }}\n",
    "        {{ form.username }}\n",
    "        {{ form.password }}\n",
    "        {{ form.submit }}\n",
    "    </form>\n",
    "\n",
    "    <a href=\"{{ url_for('register') }}\">Don't have an account? Sign Up</a>\n",
    "</body>\n",
    "</html>"
   ]
  },
  {
   "cell_type": "markdown",
   "metadata": {},
   "source": [
    "Langkah kesembilan adalah membuat suatu fungsi pada baris setelah langkah ketujuh diatas pada main.py untuk melakukan penjalurran sebelum melakukan authentication dan register serta membuat suatu fungsi untuk penjalurran setelah melakukan authentication."
   ]
  },
  {
   "cell_type": "code",
   "execution_count": null,
   "metadata": {},
   "outputs": [],
   "source": [
    "@app.route('/')\n",
    "def home():\n",
    "    return render_template('home.html')\n",
    "\n",
    "@app.route('/dashboard', methods=['GET', 'POST'])\n",
    "@login_required\n",
    "def dashboard():\n",
    "    return render_template('dashboard.html')"
   ]
  },
  {
   "cell_type": "markdown",
   "metadata": {},
   "source": [
    "Langkah kesepuluh adalah membuat berkas home.html pada direktori templates dan masukkan source code html dibawah ini dan simpan."
   ]
  },
  {
   "cell_type": "code",
   "execution_count": null,
   "metadata": {
    "vscode": {
     "languageId": "html"
    }
   },
   "outputs": [],
   "source": [
    "<!DOCTYPE html>\n",
    "<html lang=\"en\">\n",
    "<head>\n",
    "    <meta charset=\"UTF-8\">\n",
    "    <meta name=\"viewport\" content=\"width=device-width, initial-scale=1.0\">\n",
    "    <title>Document</title>\n",
    "</head>\n",
    "<body>\n",
    "    <h1>Login Authentication System in Flask.</h1>\n",
    "    <a href=\"{{ url_for('login') }}\">Login Page</a><br>\n",
    "    <a href=\"{{ url_for('register') }}\">Register Page</a><br>\n",
    "</body>\n",
    "</html>"
   ]
  },
  {
   "cell_type": "markdown",
   "metadata": {},
   "source": [
    "Langkah kesebelas adalah membuat berkas dashboard.html pada direktori templates dan masukkan source code html dibawah ini dan simpan."
   ]
  },
  {
   "cell_type": "code",
   "execution_count": null,
   "metadata": {
    "vscode": {
     "languageId": "html"
    }
   },
   "outputs": [],
   "source": [
    "<!DOCTYPE html>\n",
    "<html lang=\"en\">\n",
    "<head>\n",
    "    <meta charset=\"UTF-8\">\n",
    "    <meta name=\"viewport\" content=\"width=device-width, initial-scale=1.0\">\n",
    "    <title>Document</title>\n",
    "</head>\n",
    "<body>\n",
    "    <h1>Hello you are logged in.</h1>\n",
    "    <a href=\"{{url_for('RetrieveList')}}\">Employee</a>\n",
    "    <a href=\"{{url_for('logout')}}\">Press here to logout</a>\n",
    "</body>\n",
    "</html>"
   ]
  },
  {
   "cell_type": "markdown",
   "metadata": {},
   "source": [
    "Langkah keduabelas adalah membuat suatu fungsi pada baris setelah langkah kesembilan diatas pada main.py untuk melakukan penjalurran sebelum melakukan logout serta membuat suatu fungsi untuk penjalurran untuk melakukan registrasi pengguna beserta proses cara kerjanya."
   ]
  },
  {
   "cell_type": "code",
   "execution_count": null,
   "metadata": {},
   "outputs": [],
   "source": [
    "@app.route('/logout', methods=['GET', 'POST'])\n",
    "@login_required\n",
    "def logout():\n",
    "    logout_user()\n",
    "    return redirect(url_for('login'))\n",
    "\n",
    "\n",
    "@ app.route('/register', methods=['GET', 'POST'])\n",
    "def register():\n",
    "    form = RegisterForm()\n",
    "\n",
    "    if form.validate_on_submit():\n",
    "        hashed_password = bcrypt.generate_password_hash(form.password.data)\n",
    "        new_user = User(username=form.username.data, password=hashed_password)\n",
    "        db.session.add(new_user)\n",
    "        db.session.commit()\n",
    "        return redirect(url_for('login'))\n",
    "\n",
    "    return render_template('register.html', form=form)"
   ]
  },
  {
   "cell_type": "markdown",
   "metadata": {},
   "source": [
    "Langkah ketigabelas adalah membuat berkas register.html pada direktori templates dan masukkan source code html dibawah ini dan simpan."
   ]
  },
  {
   "cell_type": "code",
   "execution_count": null,
   "metadata": {
    "vscode": {
     "languageId": "html"
    }
   },
   "outputs": [],
   "source": [
    "<!DOCTYPE html>\n",
    "<html lang=\"en\">\n",
    "<head>\n",
    "    <meta charset=\"UTF-8\">\n",
    "    <meta name=\"viewport\" content=\"width=device-width, initial-scale=1.0\">\n",
    "    <title>Document</title>\n",
    "</head>\n",
    "<body>\n",
    "    <h1>Register Page</h1>\n",
    "\n",
    "    <form method=\"POST\" action=\"\">\n",
    "        {{ form.hidden_tag() }}\n",
    "        {{ form.username }}\n",
    "        {{ form.password }}\n",
    "        {{ form.submit }}\n",
    "    </form>\n",
    "\n",
    "    <a href=\"{{ url_for('login') }}\">Already have an account? Log In</a>\n",
    "</body>\n",
    "</html>"
   ]
  },
  {
   "cell_type": "markdown",
   "metadata": {},
   "source": [
    "Langkah keempatbelas adalah membuat suatu fungsi pada baris setelah langkah keduabelas diatas pada main.py untuk melakukan penjalurran tampilan data, pembuatan data, pengubah data, dan penghapusan data serta proses cara kerja dari CRUD."
   ]
  },
  {
   "cell_type": "code",
   "execution_count": null,
   "metadata": {},
   "outputs": [],
   "source": [
    "@app.before_first_request\n",
    "def create_table():\n",
    "    db.create_all()\n",
    "\n",
    "@app.route('/data/index')\n",
    "def RetrieveList():\n",
    "    employees = EmployeeModel.query.all()\n",
    "    return render_template('index.html',employees = employees)\n",
    "\n",
    "@app.route('/data/create' , methods = ['GET','POST'])\n",
    "def create():\n",
    "    if request.method == 'GET':\n",
    "        return render_template('createpage.html')\n",
    "\n",
    "    if request.method == 'POST':\n",
    "        employee_id = request.form['employee_id']\n",
    "        name = request.form['name']\n",
    "        age = request.form['age']\n",
    "        position = request.form['position']\n",
    "        employee = EmployeeModel(employee_id=employee_id, name=name, age=age, position = position)\n",
    "        db.session.add(employee)\n",
    "        db.session.commit()\n",
    "        return redirect(url_for(\"RetrieveList\"))\n",
    "\n",
    "\n",
    "@app.route('/datalist')\n",
    "def RetrieveLists():\n",
    "    employees = EmployeeModel.query.all()\n",
    "    return render_template('datalist.html',employees = employees)\n",
    "\n",
    "\n",
    "@app.route('/data/<int:id>')\n",
    "def RetrieveEmployee(id):\n",
    "    employee = EmployeeModel.query.filter_by(employee_id=id).first()\n",
    "    if employee:\n",
    "        return render_template('data.html', employee = employee)\n",
    "    return f\"Employee with id ={id} Doenst exist\"\n",
    "\n",
    "\n",
    "@app.route('/update/<int:id>/update',methods = ['GET','POST'])\n",
    "def update(id):\n",
    "    employee = EmployeeModel.query.filter_by(employee_id=id).first()\n",
    "    if request.method == 'POST':\n",
    "        if employee:\n",
    "            db.session.delete(employee)\n",
    "            db.session.commit()\n",
    "            name = request.form['name']\n",
    "            age = request.form['age']\n",
    "            position = request.form['position']\n",
    "            employee = EmployeeModel(employee_id=id, name=name, age=age, position = position)\n",
    "            db.session.add(employee)\n",
    "            db.session.commit()\n",
    "            return redirect(url_for(\"RetrieveList\"))\n",
    "            # return redirect(f'/data/{id}')\n",
    "        return f\"Employee with id = {id} Does nit exist\"\n",
    "\n",
    "    return render_template('update.html', employee = employee)\n",
    "\n",
    "\n",
    "@app.route('/delete/<int:id>/delete', methods=['GET','POST'])\n",
    "def delete(id):\n",
    "    employee = EmployeeModel.query.filter_by(employee_id=id).first()\n",
    "    if request.method == 'POST':\n",
    "        if employee:\n",
    "            db.session.delete(employee)\n",
    "            db.session.commit()\n",
    "            return redirect(url_for(\"RetrieveList\"))\n",
    "            # return redirect('/data')\n",
    "        abort(404)\n",
    "\n",
    "    return render_template('delete.html')\n",
    "\n",
    "app.run(host='localhost', port=5000)"
   ]
  },
  {
   "cell_type": "markdown",
   "metadata": {},
   "source": [
    "Langkah kelimabelas adalah membuat berkas index.html pada direktori templates dan masukkan source code html dibawah ini dan simpan."
   ]
  },
  {
   "cell_type": "code",
   "execution_count": null,
   "metadata": {
    "vscode": {
     "languageId": "html"
    }
   },
   "outputs": [],
   "source": [
    "<!DOCTYPE html>\n",
    "<html lang=\"en\">\n",
    "<head>\n",
    "    <meta charset=\"UTF-8\">\n",
    "    <meta name=\"viewport\" content=\"width=device-width, initial-scale=1.0\">\n",
    "    <title>Document</title>\n",
    "</head>\n",
    "<body>\n",
    "    <a href = '{{url_for(\"create\")}}' class = \"btn btn-success\" >Add User</a>\n",
    "    <a href = '{{url_for(\"dashboard\")}}'>Dashboard</a>\n",
    "    <table>\n",
    "        <thead>\n",
    "            <th>No</th>\n",
    "            <th>Name</th>\n",
    "            <th>Age</th>\n",
    "            <th>Position</th>\n",
    "        </thead>\n",
    "\n",
    "        <tbody>\n",
    "            {% for employee in employees %}\n",
    "                <tr>\n",
    "                    <td>{{employee.employee_id}}</td>\n",
    "                    <td>{{employee.name}}</td>\n",
    "                    <td>{{employee.age}}</td>\n",
    "                    <td>{{employee.position}}</td>\n",
    "                    <td><a href = \"{{url_for(\"update\", id=employee.employee_id)}}\" class = \"btn btn-primary\">Edit</a></td>\n",
    "                    <td><a href = \"{{url_for(\"delete\", id=employee.employee_id)}}\" class = \"btn btn-danger\" onclick = 'confirm(\"Are you sure ?\")'>Delete</a></td>\n",
    "                </tr>\n",
    "            {% endfor %}\n",
    "        </tbody>\n",
    "    </table>\n",
    "</body>\n",
    "</html>"
   ]
  },
  {
   "cell_type": "markdown",
   "metadata": {},
   "source": [
    "Langkah keenambelas adalah membuat berkas createpage.html pada direktori templates dan masukkan source code html dibawah ini dan simpan."
   ]
  },
  {
   "cell_type": "code",
   "execution_count": null,
   "metadata": {
    "vscode": {
     "languageId": "html"
    }
   },
   "outputs": [],
   "source": [
    "<!DOCTYPE html>\n",
    "<html lang=\"en\">\n",
    "<head>\n",
    "    <meta charset=\"UTF-8\">\n",
    "    <meta name=\"viewport\" content=\"width=device-width, initial-scale=1.0\">\n",
    "    <title>Document</title>\n",
    "</head>\n",
    "<body>\n",
    "    <form action='{{url_for(\"create\")}}' method = \"POST\">\n",
    "        <p>employee ID <input type = \"integer\" name = \"employee_id\" /></p>\n",
    "        <p>name <input type = \"text\" name = \"name\" /></p>\n",
    "        <p>age <input type = \"integer\" name = \"age\" /></p>\n",
    "        <p>position <input type = \"text\" name = \"position\" /></p>\n",
    "        <p><input type = \"submit\" value = \"Submit\" /></p>\n",
    "    </form>\n",
    "</body>\n",
    "</html>"
   ]
  },
  {
   "cell_type": "markdown",
   "metadata": {},
   "source": [
    "Langkah ketujuhbelas adalah membuat berkas update.html pada direktori templates dan masukkan source code html dibawah ini dan simpan."
   ]
  },
  {
   "cell_type": "code",
   "execution_count": null,
   "metadata": {
    "vscode": {
     "languageId": "html"
    }
   },
   "outputs": [],
   "source": [
    "<!DOCTYPE html>\n",
    "<html lang=\"en\">\n",
    "<head>\n",
    "    <meta charset=\"UTF-8\">\n",
    "    <meta name=\"viewport\" content=\"width=device-width, initial-scale=1.0\">\n",
    "    <title>Document</title>\n",
    "</head>\n",
    "<body>\n",
    "    <form action='' method = \"POST\">\n",
    "        <p>name <input type = \"text\" name = \"name\" value=\"{{employee.name}}\"/></p>\n",
    "        <p>age <input type = \"integer\" name = \"age\"  value=\"{{employee.age}}\"/></p>\n",
    "        <p>position <input type = \"text\" name = \"position\" value=\"{{employee.position}}\"/></p>\n",
    "        <p><input type = \"submit\" value = \"Submit\" /></p>\n",
    "    </form>         \n",
    "</body>\n",
    "</html>"
   ]
  },
  {
   "cell_type": "markdown",
   "metadata": {},
   "source": [
    "Langkah kedelapanbelas adalah membuat berkas delete.html pada direktori templates dan masukkan source code html dibawah ini dan simpan."
   ]
  },
  {
   "cell_type": "code",
   "execution_count": null,
   "metadata": {
    "vscode": {
     "languageId": "html"
    }
   },
   "outputs": [],
   "source": [
    "<!DOCTYPE html>\n",
    "<html lang=\"en\">\n",
    "<head>\n",
    "    <meta charset=\"UTF-8\">\n",
    "    <meta name=\"viewport\" content=\"width=device-width, initial-scale=1.0\">\n",
    "    <title>Document</title>\n",
    "</head>\n",
    "<body>\n",
    "    <form action='' method=\"post\">\n",
    "        Click YES to confirm\n",
    "        <input type = \"submit\" value=\"YES\">\n",
    "        <a href='/data'>Cancel</a>\n",
    "    </form>\n",
    "</body>\n",
    "</html>"
   ]
  },
  {
   "cell_type": "markdown",
   "metadata": {},
   "source": [
    "full source code pada models.py:"
   ]
  },
  {
   "cell_type": "code",
   "execution_count": null,
   "metadata": {},
   "outputs": [],
   "source": [
    "from flask_sqlalchemy import SQLAlchemy\n",
    "from flask_login import UserMixin\n",
    "\n",
    "db =SQLAlchemy()\n",
    "\n",
    "class EmployeeModel(db.Model):\n",
    "    __tablename__ = \"table\"\n",
    "\n",
    "    id = db.Column(db.Integer, primary_key=True)\n",
    "    employee_id = db.Column(db.Integer(),unique = True)\n",
    "    name = db.Column(db.String())\n",
    "    age = db.Column(db.Integer())\n",
    "    position = db.Column(db.String(80))\n",
    "\n",
    "    def __init__(self, employee_id,name,age,position):\n",
    "        self.employee_id = employee_id\n",
    "        self.name = name\n",
    "        self.age = age\n",
    "        self.position = position\n",
    "\n",
    "    def __repr__(self):\n",
    "        return f\"{self.name}:{self.employee_id}\""
   ]
  },
  {
   "cell_type": "markdown",
   "metadata": {},
   "source": [
    "full source code pada main.py:"
   ]
  },
  {
   "cell_type": "code",
   "execution_count": null,
   "metadata": {},
   "outputs": [],
   "source": [
    "from flask import Flask,render_template,request,redirect, url_for\n",
    "from flask_login import UserMixin, login_user, LoginManager, login_required, logout_user, current_user\n",
    "from flask_wtf import FlaskForm\n",
    "from wtforms import StringField, PasswordField, SubmitField\n",
    "from wtforms.validators import InputRequired, Length, ValidationError\n",
    "from flask_bcrypt import Bcrypt\n",
    "from models import db,EmployeeModel\n",
    "\n",
    "app = Flask(__name__)\n",
    "bcrypt = Bcrypt(app)\n",
    "app.config['SQLALCHEMY_DATABASE_URI'] = 'sqlite:///database.db'\n",
    "app.config['SQLALCHEMY_TRACK_MODIFICATIONS'] = False\n",
    "app.config['SECRET_KEY'] = 'thisisasecretkey'\n",
    "db.init_app(app)\n",
    "\n",
    "login_manager = LoginManager()\n",
    "login_manager.init_app(app)\n",
    "login_manager.login_view = 'login'\n",
    "\n",
    "@login_manager.user_loader\n",
    "def load_user(user_id):\n",
    "    return User.query.get(int(user_id))\n",
    "\n",
    "class User(db.Model, UserMixin):\n",
    "    id = db.Column(db.Integer, primary_key=True)\n",
    "    username = db.Column(db.String(20), nullable=False, unique=True)\n",
    "    password = db.Column(db.String(80), nullable=False)\n",
    "\n",
    "class RegisterForm(FlaskForm):\n",
    "    username = StringField(validators=[\n",
    "                           InputRequired(), Length(min=4, max=20)], render_kw={\"placeholder\": \"Username\"})\n",
    "\n",
    "    password = PasswordField(validators=[\n",
    "                             InputRequired(), Length(min=8, max=20)], render_kw={\"placeholder\": \"Password\"})\n",
    "\n",
    "    submit = SubmitField('Register')\n",
    "\n",
    "    def validate_username(self, username):\n",
    "        existing_user_username = User.query.filter_by(\n",
    "            username=username.data).first()\n",
    "        if existing_user_username:\n",
    "            raise ValidationError(\n",
    "                'That username already exists. Please choose a different one.')\n",
    "            \n",
    "class LoginForm(FlaskForm):\n",
    "    username = StringField(validators=[\n",
    "                           InputRequired(), Length(min=4, max=20)], render_kw={\"placeholder\": \"Username\"})\n",
    "\n",
    "    password = PasswordField(validators=[\n",
    "                             InputRequired(), Length(min=8, max=20)], render_kw={\"placeholder\": \"Password\"})\n",
    "\n",
    "    submit = SubmitField('Login')\n",
    "    \n",
    "@app.route('/login', methods=['GET', 'POST'])\n",
    "def login():\n",
    "    form = LoginForm()\n",
    "    if form.validate_on_submit():\n",
    "        user = User.query.filter_by(username=form.username.data).first()\n",
    "        if user:\n",
    "            if bcrypt.check_password_hash(user.password, form.password.data):\n",
    "                login_user(user)\n",
    "                return redirect(url_for('dashboard'))\n",
    "    return render_template('login.html', form=form)\n",
    "\n",
    "@app.route('/')\n",
    "def home():\n",
    "    return render_template('home.html')\n",
    "\n",
    "@app.route('/dashboard', methods=['GET', 'POST'])\n",
    "@login_required\n",
    "def dashboard():\n",
    "    return render_template('dashboard.html')\n",
    "\n",
    "\n",
    "@app.route('/logout', methods=['GET', 'POST'])\n",
    "@login_required\n",
    "def logout():\n",
    "    logout_user()\n",
    "    return redirect(url_for('login'))\n",
    "\n",
    "\n",
    "@ app.route('/register', methods=['GET', 'POST'])\n",
    "def register():\n",
    "    form = RegisterForm()\n",
    "\n",
    "    if form.validate_on_submit():\n",
    "        hashed_password = bcrypt.generate_password_hash(form.password.data)\n",
    "        new_user = User(username=form.username.data, password=hashed_password)\n",
    "        db.session.add(new_user)\n",
    "        db.session.commit()\n",
    "        return redirect(url_for('login'))\n",
    "\n",
    "    return render_template('register.html', form=form)\n",
    "\n",
    "@app.before_first_request\n",
    "def create_table():\n",
    "    db.create_all()\n",
    "\n",
    "@app.route('/data/index')\n",
    "def RetrieveList():\n",
    "    employees = EmployeeModel.query.all()\n",
    "    return render_template('index.html',employees = employees)\n",
    "\n",
    "@app.route('/data/create' , methods = ['GET','POST'])\n",
    "def create():\n",
    "    if request.method == 'GET':\n",
    "        return render_template('createpage.html')\n",
    "\n",
    "    if request.method == 'POST':\n",
    "        employee_id = request.form['employee_id']\n",
    "        name = request.form['name']\n",
    "        age = request.form['age']\n",
    "        position = request.form['position']\n",
    "        employee = EmployeeModel(employee_id=employee_id, name=name, age=age, position = position)\n",
    "        db.session.add(employee)\n",
    "        db.session.commit()\n",
    "        return redirect(url_for(\"RetrieveList\"))\n",
    "\n",
    "\n",
    "@app.route('/datalist')\n",
    "def RetrieveLists():\n",
    "    employees = EmployeeModel.query.all()\n",
    "    return render_template('datalist.html',employees = employees)\n",
    "\n",
    "\n",
    "@app.route('/data/<int:id>')\n",
    "def RetrieveEmployee(id):\n",
    "    employee = EmployeeModel.query.filter_by(employee_id=id).first()\n",
    "    if employee:\n",
    "        return render_template('data.html', employee = employee)\n",
    "    return f\"Employee with id ={id} Doenst exist\"\n",
    "\n",
    "\n",
    "@app.route('/update/<int:id>/update',methods = ['GET','POST'])\n",
    "def update(id):\n",
    "    employee = EmployeeModel.query.filter_by(employee_id=id).first()\n",
    "    if request.method == 'POST':\n",
    "        if employee:\n",
    "            db.session.delete(employee)\n",
    "            db.session.commit()\n",
    "            name = request.form['name']\n",
    "            age = request.form['age']\n",
    "            position = request.form['position']\n",
    "            employee = EmployeeModel(employee_id=id, name=name, age=age, position = position)\n",
    "            db.session.add(employee)\n",
    "            db.session.commit()\n",
    "            return redirect(url_for(\"RetrieveList\"))\n",
    "            # return redirect(f'/data/{id}')\n",
    "        return f\"Employee with id = {id} Does nit exist\"\n",
    "\n",
    "    return render_template('update.html', employee = employee)\n",
    "\n",
    "\n",
    "@app.route('/delete/<int:id>/delete', methods=['GET','POST'])\n",
    "def delete(id):\n",
    "    employee = EmployeeModel.query.filter_by(employee_id=id).first()\n",
    "    if request.method == 'POST':\n",
    "        if employee:\n",
    "            db.session.delete(employee)\n",
    "            db.session.commit()\n",
    "            return redirect(url_for(\"RetrieveList\"))\n",
    "            # return redirect('/data')\n",
    "        abort(404)\n",
    "\n",
    "    return render_template('delete.html')\n",
    "\n",
    "app.run(host='localhost', port=5000)"
   ]
  },
  {
   "cell_type": "markdown",
   "metadata": {},
   "source": [
    "Langkah terakhir adalah menjalankan web application dengan cara membuka commandlines atau terminal pada direktori employee lalu ketikkan perintah:"
   ]
  },
  {
   "cell_type": "code",
   "execution_count": null,
   "metadata": {
    "vscode": {
     "languageId": "shellscript"
    }
   },
   "outputs": [],
   "source": [
    "python3 main.py # linux"
   ]
  },
  {
   "cell_type": "code",
   "execution_count": null,
   "metadata": {
    "vscode": {
     "languageId": "shellscript"
    }
   },
   "outputs": [],
   "source": [
    "python main.py # windows"
   ]
  }
 ],
 "metadata": {
  "language_info": {
   "name": "python"
  },
  "orig_nbformat": 4
 },
 "nbformat": 4,
 "nbformat_minor": 2
}
